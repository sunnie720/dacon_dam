{
  "nbformat": 4,
  "nbformat_minor": 0,
  "metadata": {
    "colab": {
      "name": "결측치_이상치_처리_방법1.ipynb",
      "provenance": [],
      "toc_visible": true,
      "authorship_tag": "ABX9TyNxP2IRRKDkJtITe9HyvdEZ"
    },
    "kernelspec": {
      "name": "python3",
      "display_name": "Python 3"
    },
    "language_info": {
      "name": "python"
    }
  },
  "cells": [
    {
      "cell_type": "markdown",
      "source": [
        "**[결측치 처리]**\n",
        "- 시계열데이터이므로 결측치를 평균값 보다는 보간법으로 채워주는 것이 좋음 <br> (그래야 t-1시점과 t+1시점의 값 사이에 smooth 하게 이어줄 수 있음) <br>\n",
        "(특히, 우리나라 강수량은 여름 며칠에만 집중적이어서 평균값이 전체 특성을 반영하지 못할 수 있음)\n",
        "- 공용량(ecpc) 이상치는 저수량(sfw) 결측치, 이상치를 먼저 채운 뒤에 '244.0 - sfw' 값으로 대체\n",
        "\n",
        "**[이상치 탐색]**\n",
        "- 총방류량(tototf), 유입량(inf) 이상치\n",
        "  - 2013-09-16, 2018-06-08, 2018-07-05 : 두 변수 보간법 등으로 변경해주기\n",
        "  - 2020-08-22 18:50:00 : 방류량0으로 변경해주기\n",
        "  - 2020-08-22 19:00:00 : 유입량 bfill로 변경해주기"
      ],
      "metadata": {
        "id": "Y7Xp7CNF-aTY"
      }
    },
    {
      "cell_type": "markdown",
      "source": [
        "## 데이터 불러오기"
      ],
      "metadata": {
        "id": "WtkXcw2KBiCZ"
      }
    },
    {
      "cell_type": "code",
      "execution_count": 1,
      "metadata": {
        "id": "elg1bHhJ-Ksp"
      },
      "outputs": [],
      "source": [
        "import numpy as np\n",
        "import pandas as pd\n",
        "\n",
        "import seaborn as sns \n",
        "import matplotlib.pyplot as plt\n",
        "\n",
        "import warnings\n",
        "warnings.filterwarnings(action='ignore')"
      ]
    },
    {
      "cell_type": "code",
      "source": [
        "from google.colab import drive\n",
        "drive.mount('/content/drive')"
      ],
      "metadata": {
        "colab": {
          "base_uri": "https://localhost:8080/"
        },
        "id": "ldox_evcOlLU",
        "outputId": "0225bf7c-86ed-4796-a7d7-69f5bc698786"
      },
      "execution_count": 2,
      "outputs": [
        {
          "output_type": "stream",
          "name": "stdout",
          "text": [
            "Mounted at /content/drive\n"
          ]
        }
      ]
    },
    {
      "cell_type": "code",
      "source": [
        "filepath='/content/drive/Shareddrives/팔당댐/combined_data/combined_data(2012-2022).csv'"
      ],
      "metadata": {
        "id": "KenwVOlAUtyT"
      },
      "execution_count": 3,
      "outputs": []
    },
    {
      "cell_type": "code",
      "source": [
        "#인덱스type을 datetime형으로 변환하여 데이터프레임 생성\n",
        "df=pd.read_csv(filepath, index_col='ymdhm', parse_dates=['ymdhm'])\n",
        "df.drop('Unnamed: 0',axis=1,inplace=True)\n",
        "df.index"
      ],
      "metadata": {
        "colab": {
          "base_uri": "https://localhost:8080/"
        },
        "id": "ligPMOknb0rO",
        "outputId": "4a3e3efe-f04e-4aec-bc79-195f278fe327"
      },
      "execution_count": 4,
      "outputs": [
        {
          "output_type": "execute_result",
          "data": {
            "text/plain": [
              "DatetimeIndex(['2012-05-01 00:00:00', '2012-05-01 00:10:00',\n",
              "               '2012-05-01 00:20:00', '2012-05-01 00:30:00',\n",
              "               '2012-05-01 00:40:00', '2012-05-01 00:50:00',\n",
              "               '2012-05-01 01:00:00', '2012-05-01 01:10:00',\n",
              "               '2012-05-01 01:20:00', '2012-05-01 01:30:00',\n",
              "               ...\n",
              "               '2022-07-18 22:20:00', '2022-07-18 22:30:00',\n",
              "               '2022-07-18 22:40:00', '2022-07-18 22:50:00',\n",
              "               '2022-07-18 23:00:00', '2022-07-18 23:10:00',\n",
              "               '2022-07-18 23:20:00', '2022-07-18 23:30:00',\n",
              "               '2022-07-18 23:40:00', '2022-07-18 23:50:00'],\n",
              "              dtype='datetime64[ns]', name='ymdhm', length=276336, freq=None)"
            ]
          },
          "metadata": {},
          "execution_count": 4
        }
      ]
    },
    {
      "cell_type": "code",
      "source": [
        "df"
      ],
      "metadata": {
        "colab": {
          "base_uri": "https://localhost:8080/",
          "height": 866
        },
        "id": "azg8uZyI-k0B",
        "outputId": "7896e2b5-8d65-45c2-b43f-458e5f0396e7"
      },
      "execution_count": 5,
      "outputs": [
        {
          "output_type": "execute_result",
          "data": {
            "text/plain": [
              "                        swl     inf     sfw   ecpc  tototf  tide_level  \\\n",
              "ymdhm                                                                    \n",
              "2012-05-01 00:00:00  24.800  555.00  219.07  24.93  555.00       445.0   \n",
              "2012-05-01 00:10:00  24.794  464.60  218.86  25.15  562.90       449.0   \n",
              "2012-05-01 00:20:00  24.789  478.10  218.69  25.31  576.40       451.0   \n",
              "2012-05-01 00:30:00  24.789  464.80  218.69  25.31  563.10       452.0   \n",
              "2012-05-01 00:40:00  24.789  478.10  218.69  25.31  576.40       450.0   \n",
              "...                     ...     ...     ...    ...     ...         ...   \n",
              "2022-07-18 23:10:00  25.040  259.23  212.86  31.14  259.23       510.0   \n",
              "2022-07-18 23:20:00  25.040  260.46  212.86  31.14  260.46       492.0   \n",
              "2022-07-18 23:30:00  25.040  259.37  212.86  31.14  259.37       475.0   \n",
              "2022-07-18 23:40:00  25.040  259.13  212.86  31.14  259.13       458.0   \n",
              "2022-07-18 23:50:00  25.040  258.16  212.86  31.14  258.16       442.0   \n",
              "\n",
              "                     wl_1018662  fw_1018662  wl_1018680  fw_1018680  \\\n",
              "ymdhm                                                                 \n",
              "2012-05-01 00:00:00       310.7      469.05       300.2         0.0   \n",
              "2012-05-01 00:10:00       314.7      498.00       300.2         0.0   \n",
              "2012-05-01 00:20:00       313.7      490.68       301.2         0.0   \n",
              "2012-05-01 00:30:00       311.7      476.21       301.2         0.0   \n",
              "2012-05-01 00:40:00       311.7      476.21       301.2         0.0   \n",
              "...                         ...         ...         ...         ...   \n",
              "2022-07-18 23:10:00         0.0      319.84         0.0         NaN   \n",
              "2022-07-18 23:20:00         0.0      314.01         0.0         NaN   \n",
              "2022-07-18 23:30:00         0.0      387.55         0.0         NaN   \n",
              "2022-07-18 23:40:00         0.0      454.91         0.0         NaN   \n",
              "2022-07-18 23:50:00         0.0      582.21         0.0         NaN   \n",
              "\n",
              "                     wl_1018683  fw_1018683  wl_1019630  fw_1019630  \\\n",
              "ymdhm                                                                 \n",
              "2012-05-01 00:00:00       290.0      729.80       275.3      540.18   \n",
              "2012-05-01 00:10:00       290.0      731.48       275.3      540.18   \n",
              "2012-05-01 00:20:00       290.0      726.42       275.3      540.18   \n",
              "2012-05-01 00:30:00       290.0      726.42       276.3      552.17   \n",
              "2012-05-01 00:40:00       291.0      707.17       277.3      564.29   \n",
              "...                         ...         ...         ...         ...   \n",
              "2022-07-18 23:10:00         0.0     -456.41         0.0      974.40   \n",
              "2022-07-18 23:20:00         0.0     -717.30         0.0     1006.88   \n",
              "2022-07-18 23:30:00         0.0     -843.37         0.0     1039.90   \n",
              "2022-07-18 23:40:00         0.0    -1023.37         0.0     1073.46   \n",
              "2022-07-18 23:50:00         0.0    -1049.44         0.0     1090.45   \n",
              "\n",
              "                     rf_10184100  rf_10184110  rf_10184140  \n",
              "ymdhm                                                       \n",
              "2012-05-01 00:00:00          0.0          0.0          0.0  \n",
              "2012-05-01 00:10:00          0.0          0.0          0.0  \n",
              "2012-05-01 00:20:00          0.0          0.0          0.0  \n",
              "2012-05-01 00:30:00          0.0          0.0          0.0  \n",
              "2012-05-01 00:40:00          0.0          0.0          0.0  \n",
              "...                          ...          ...          ...  \n",
              "2022-07-18 23:10:00          0.0          0.0          0.0  \n",
              "2022-07-18 23:20:00          0.0          0.0          0.0  \n",
              "2022-07-18 23:30:00          0.0          0.0          0.0  \n",
              "2022-07-18 23:40:00          0.0          0.0          0.0  \n",
              "2022-07-18 23:50:00          0.0          0.0          0.0  \n",
              "\n",
              "[276336 rows x 17 columns]"
            ],
            "text/html": [
              "\n",
              "  <div id=\"df-1b01a964-2fca-4c79-bbca-0eae1bb3959e\">\n",
              "    <div class=\"colab-df-container\">\n",
              "      <div>\n",
              "<style scoped>\n",
              "    .dataframe tbody tr th:only-of-type {\n",
              "        vertical-align: middle;\n",
              "    }\n",
              "\n",
              "    .dataframe tbody tr th {\n",
              "        vertical-align: top;\n",
              "    }\n",
              "\n",
              "    .dataframe thead th {\n",
              "        text-align: right;\n",
              "    }\n",
              "</style>\n",
              "<table border=\"1\" class=\"dataframe\">\n",
              "  <thead>\n",
              "    <tr style=\"text-align: right;\">\n",
              "      <th></th>\n",
              "      <th>swl</th>\n",
              "      <th>inf</th>\n",
              "      <th>sfw</th>\n",
              "      <th>ecpc</th>\n",
              "      <th>tototf</th>\n",
              "      <th>tide_level</th>\n",
              "      <th>wl_1018662</th>\n",
              "      <th>fw_1018662</th>\n",
              "      <th>wl_1018680</th>\n",
              "      <th>fw_1018680</th>\n",
              "      <th>wl_1018683</th>\n",
              "      <th>fw_1018683</th>\n",
              "      <th>wl_1019630</th>\n",
              "      <th>fw_1019630</th>\n",
              "      <th>rf_10184100</th>\n",
              "      <th>rf_10184110</th>\n",
              "      <th>rf_10184140</th>\n",
              "    </tr>\n",
              "    <tr>\n",
              "      <th>ymdhm</th>\n",
              "      <th></th>\n",
              "      <th></th>\n",
              "      <th></th>\n",
              "      <th></th>\n",
              "      <th></th>\n",
              "      <th></th>\n",
              "      <th></th>\n",
              "      <th></th>\n",
              "      <th></th>\n",
              "      <th></th>\n",
              "      <th></th>\n",
              "      <th></th>\n",
              "      <th></th>\n",
              "      <th></th>\n",
              "      <th></th>\n",
              "      <th></th>\n",
              "      <th></th>\n",
              "    </tr>\n",
              "  </thead>\n",
              "  <tbody>\n",
              "    <tr>\n",
              "      <th>2012-05-01 00:00:00</th>\n",
              "      <td>24.800</td>\n",
              "      <td>555.00</td>\n",
              "      <td>219.07</td>\n",
              "      <td>24.93</td>\n",
              "      <td>555.00</td>\n",
              "      <td>445.0</td>\n",
              "      <td>310.7</td>\n",
              "      <td>469.05</td>\n",
              "      <td>300.2</td>\n",
              "      <td>0.0</td>\n",
              "      <td>290.0</td>\n",
              "      <td>729.80</td>\n",
              "      <td>275.3</td>\n",
              "      <td>540.18</td>\n",
              "      <td>0.0</td>\n",
              "      <td>0.0</td>\n",
              "      <td>0.0</td>\n",
              "    </tr>\n",
              "    <tr>\n",
              "      <th>2012-05-01 00:10:00</th>\n",
              "      <td>24.794</td>\n",
              "      <td>464.60</td>\n",
              "      <td>218.86</td>\n",
              "      <td>25.15</td>\n",
              "      <td>562.90</td>\n",
              "      <td>449.0</td>\n",
              "      <td>314.7</td>\n",
              "      <td>498.00</td>\n",
              "      <td>300.2</td>\n",
              "      <td>0.0</td>\n",
              "      <td>290.0</td>\n",
              "      <td>731.48</td>\n",
              "      <td>275.3</td>\n",
              "      <td>540.18</td>\n",
              "      <td>0.0</td>\n",
              "      <td>0.0</td>\n",
              "      <td>0.0</td>\n",
              "    </tr>\n",
              "    <tr>\n",
              "      <th>2012-05-01 00:20:00</th>\n",
              "      <td>24.789</td>\n",
              "      <td>478.10</td>\n",
              "      <td>218.69</td>\n",
              "      <td>25.31</td>\n",
              "      <td>576.40</td>\n",
              "      <td>451.0</td>\n",
              "      <td>313.7</td>\n",
              "      <td>490.68</td>\n",
              "      <td>301.2</td>\n",
              "      <td>0.0</td>\n",
              "      <td>290.0</td>\n",
              "      <td>726.42</td>\n",
              "      <td>275.3</td>\n",
              "      <td>540.18</td>\n",
              "      <td>0.0</td>\n",
              "      <td>0.0</td>\n",
              "      <td>0.0</td>\n",
              "    </tr>\n",
              "    <tr>\n",
              "      <th>2012-05-01 00:30:00</th>\n",
              "      <td>24.789</td>\n",
              "      <td>464.80</td>\n",
              "      <td>218.69</td>\n",
              "      <td>25.31</td>\n",
              "      <td>563.10</td>\n",
              "      <td>452.0</td>\n",
              "      <td>311.7</td>\n",
              "      <td>476.21</td>\n",
              "      <td>301.2</td>\n",
              "      <td>0.0</td>\n",
              "      <td>290.0</td>\n",
              "      <td>726.42</td>\n",
              "      <td>276.3</td>\n",
              "      <td>552.17</td>\n",
              "      <td>0.0</td>\n",
              "      <td>0.0</td>\n",
              "      <td>0.0</td>\n",
              "    </tr>\n",
              "    <tr>\n",
              "      <th>2012-05-01 00:40:00</th>\n",
              "      <td>24.789</td>\n",
              "      <td>478.10</td>\n",
              "      <td>218.69</td>\n",
              "      <td>25.31</td>\n",
              "      <td>576.40</td>\n",
              "      <td>450.0</td>\n",
              "      <td>311.7</td>\n",
              "      <td>476.21</td>\n",
              "      <td>301.2</td>\n",
              "      <td>0.0</td>\n",
              "      <td>291.0</td>\n",
              "      <td>707.17</td>\n",
              "      <td>277.3</td>\n",
              "      <td>564.29</td>\n",
              "      <td>0.0</td>\n",
              "      <td>0.0</td>\n",
              "      <td>0.0</td>\n",
              "    </tr>\n",
              "    <tr>\n",
              "      <th>...</th>\n",
              "      <td>...</td>\n",
              "      <td>...</td>\n",
              "      <td>...</td>\n",
              "      <td>...</td>\n",
              "      <td>...</td>\n",
              "      <td>...</td>\n",
              "      <td>...</td>\n",
              "      <td>...</td>\n",
              "      <td>...</td>\n",
              "      <td>...</td>\n",
              "      <td>...</td>\n",
              "      <td>...</td>\n",
              "      <td>...</td>\n",
              "      <td>...</td>\n",
              "      <td>...</td>\n",
              "      <td>...</td>\n",
              "      <td>...</td>\n",
              "    </tr>\n",
              "    <tr>\n",
              "      <th>2022-07-18 23:10:00</th>\n",
              "      <td>25.040</td>\n",
              "      <td>259.23</td>\n",
              "      <td>212.86</td>\n",
              "      <td>31.14</td>\n",
              "      <td>259.23</td>\n",
              "      <td>510.0</td>\n",
              "      <td>0.0</td>\n",
              "      <td>319.84</td>\n",
              "      <td>0.0</td>\n",
              "      <td>NaN</td>\n",
              "      <td>0.0</td>\n",
              "      <td>-456.41</td>\n",
              "      <td>0.0</td>\n",
              "      <td>974.40</td>\n",
              "      <td>0.0</td>\n",
              "      <td>0.0</td>\n",
              "      <td>0.0</td>\n",
              "    </tr>\n",
              "    <tr>\n",
              "      <th>2022-07-18 23:20:00</th>\n",
              "      <td>25.040</td>\n",
              "      <td>260.46</td>\n",
              "      <td>212.86</td>\n",
              "      <td>31.14</td>\n",
              "      <td>260.46</td>\n",
              "      <td>492.0</td>\n",
              "      <td>0.0</td>\n",
              "      <td>314.01</td>\n",
              "      <td>0.0</td>\n",
              "      <td>NaN</td>\n",
              "      <td>0.0</td>\n",
              "      <td>-717.30</td>\n",
              "      <td>0.0</td>\n",
              "      <td>1006.88</td>\n",
              "      <td>0.0</td>\n",
              "      <td>0.0</td>\n",
              "      <td>0.0</td>\n",
              "    </tr>\n",
              "    <tr>\n",
              "      <th>2022-07-18 23:30:00</th>\n",
              "      <td>25.040</td>\n",
              "      <td>259.37</td>\n",
              "      <td>212.86</td>\n",
              "      <td>31.14</td>\n",
              "      <td>259.37</td>\n",
              "      <td>475.0</td>\n",
              "      <td>0.0</td>\n",
              "      <td>387.55</td>\n",
              "      <td>0.0</td>\n",
              "      <td>NaN</td>\n",
              "      <td>0.0</td>\n",
              "      <td>-843.37</td>\n",
              "      <td>0.0</td>\n",
              "      <td>1039.90</td>\n",
              "      <td>0.0</td>\n",
              "      <td>0.0</td>\n",
              "      <td>0.0</td>\n",
              "    </tr>\n",
              "    <tr>\n",
              "      <th>2022-07-18 23:40:00</th>\n",
              "      <td>25.040</td>\n",
              "      <td>259.13</td>\n",
              "      <td>212.86</td>\n",
              "      <td>31.14</td>\n",
              "      <td>259.13</td>\n",
              "      <td>458.0</td>\n",
              "      <td>0.0</td>\n",
              "      <td>454.91</td>\n",
              "      <td>0.0</td>\n",
              "      <td>NaN</td>\n",
              "      <td>0.0</td>\n",
              "      <td>-1023.37</td>\n",
              "      <td>0.0</td>\n",
              "      <td>1073.46</td>\n",
              "      <td>0.0</td>\n",
              "      <td>0.0</td>\n",
              "      <td>0.0</td>\n",
              "    </tr>\n",
              "    <tr>\n",
              "      <th>2022-07-18 23:50:00</th>\n",
              "      <td>25.040</td>\n",
              "      <td>258.16</td>\n",
              "      <td>212.86</td>\n",
              "      <td>31.14</td>\n",
              "      <td>258.16</td>\n",
              "      <td>442.0</td>\n",
              "      <td>0.0</td>\n",
              "      <td>582.21</td>\n",
              "      <td>0.0</td>\n",
              "      <td>NaN</td>\n",
              "      <td>0.0</td>\n",
              "      <td>-1049.44</td>\n",
              "      <td>0.0</td>\n",
              "      <td>1090.45</td>\n",
              "      <td>0.0</td>\n",
              "      <td>0.0</td>\n",
              "      <td>0.0</td>\n",
              "    </tr>\n",
              "  </tbody>\n",
              "</table>\n",
              "<p>276336 rows × 17 columns</p>\n",
              "</div>\n",
              "      <button class=\"colab-df-convert\" onclick=\"convertToInteractive('df-1b01a964-2fca-4c79-bbca-0eae1bb3959e')\"\n",
              "              title=\"Convert this dataframe to an interactive table.\"\n",
              "              style=\"display:none;\">\n",
              "        \n",
              "  <svg xmlns=\"http://www.w3.org/2000/svg\" height=\"24px\"viewBox=\"0 0 24 24\"\n",
              "       width=\"24px\">\n",
              "    <path d=\"M0 0h24v24H0V0z\" fill=\"none\"/>\n",
              "    <path d=\"M18.56 5.44l.94 2.06.94-2.06 2.06-.94-2.06-.94-.94-2.06-.94 2.06-2.06.94zm-11 1L8.5 8.5l.94-2.06 2.06-.94-2.06-.94L8.5 2.5l-.94 2.06-2.06.94zm10 10l.94 2.06.94-2.06 2.06-.94-2.06-.94-.94-2.06-.94 2.06-2.06.94z\"/><path d=\"M17.41 7.96l-1.37-1.37c-.4-.4-.92-.59-1.43-.59-.52 0-1.04.2-1.43.59L10.3 9.45l-7.72 7.72c-.78.78-.78 2.05 0 2.83L4 21.41c.39.39.9.59 1.41.59.51 0 1.02-.2 1.41-.59l7.78-7.78 2.81-2.81c.8-.78.8-2.07 0-2.86zM5.41 20L4 18.59l7.72-7.72 1.47 1.35L5.41 20z\"/>\n",
              "  </svg>\n",
              "      </button>\n",
              "      \n",
              "  <style>\n",
              "    .colab-df-container {\n",
              "      display:flex;\n",
              "      flex-wrap:wrap;\n",
              "      gap: 12px;\n",
              "    }\n",
              "\n",
              "    .colab-df-convert {\n",
              "      background-color: #E8F0FE;\n",
              "      border: none;\n",
              "      border-radius: 50%;\n",
              "      cursor: pointer;\n",
              "      display: none;\n",
              "      fill: #1967D2;\n",
              "      height: 32px;\n",
              "      padding: 0 0 0 0;\n",
              "      width: 32px;\n",
              "    }\n",
              "\n",
              "    .colab-df-convert:hover {\n",
              "      background-color: #E2EBFA;\n",
              "      box-shadow: 0px 1px 2px rgba(60, 64, 67, 0.3), 0px 1px 3px 1px rgba(60, 64, 67, 0.15);\n",
              "      fill: #174EA6;\n",
              "    }\n",
              "\n",
              "    [theme=dark] .colab-df-convert {\n",
              "      background-color: #3B4455;\n",
              "      fill: #D2E3FC;\n",
              "    }\n",
              "\n",
              "    [theme=dark] .colab-df-convert:hover {\n",
              "      background-color: #434B5C;\n",
              "      box-shadow: 0px 1px 3px 1px rgba(0, 0, 0, 0.15);\n",
              "      filter: drop-shadow(0px 1px 2px rgba(0, 0, 0, 0.3));\n",
              "      fill: #FFFFFF;\n",
              "    }\n",
              "  </style>\n",
              "\n",
              "      <script>\n",
              "        const buttonEl =\n",
              "          document.querySelector('#df-1b01a964-2fca-4c79-bbca-0eae1bb3959e button.colab-df-convert');\n",
              "        buttonEl.style.display =\n",
              "          google.colab.kernel.accessAllowed ? 'block' : 'none';\n",
              "\n",
              "        async function convertToInteractive(key) {\n",
              "          const element = document.querySelector('#df-1b01a964-2fca-4c79-bbca-0eae1bb3959e');\n",
              "          const dataTable =\n",
              "            await google.colab.kernel.invokeFunction('convertToInteractive',\n",
              "                                                     [key], {});\n",
              "          if (!dataTable) return;\n",
              "\n",
              "          const docLinkHtml = 'Like what you see? Visit the ' +\n",
              "            '<a target=\"_blank\" href=https://colab.research.google.com/notebooks/data_table.ipynb>data table notebook</a>'\n",
              "            + ' to learn more about interactive tables.';\n",
              "          element.innerHTML = '';\n",
              "          dataTable['output_type'] = 'display_data';\n",
              "          await google.colab.output.renderOutput(dataTable, element);\n",
              "          const docLink = document.createElement('div');\n",
              "          docLink.innerHTML = docLinkHtml;\n",
              "          element.appendChild(docLink);\n",
              "        }\n",
              "      </script>\n",
              "    </div>\n",
              "  </div>\n",
              "  "
            ]
          },
          "metadata": {},
          "execution_count": 5
        }
      ]
    },
    {
      "cell_type": "markdown",
      "source": [
        "## 결측치 처리\n",
        "- 보간법으로 결측치 채우기\n",
        "- ```Pandas.Series.Interpolate``` [설명 링크](https://pandas.pydata.org/docs/reference/api/pandas.Series.interpolate.html)"
      ],
      "metadata": {
        "id": "SY7HdeORTO3S"
      }
    },
    {
      "cell_type": "code",
      "source": [
        "df.info()"
      ],
      "metadata": {
        "colab": {
          "base_uri": "https://localhost:8080/"
        },
        "id": "FcmeXk1lTZTU",
        "outputId": "b8170416-e812-4ad4-80d5-a98a775db80e"
      },
      "execution_count": 6,
      "outputs": [
        {
          "output_type": "stream",
          "name": "stdout",
          "text": [
            "<class 'pandas.core.frame.DataFrame'>\n",
            "DatetimeIndex: 276336 entries, 2012-05-01 00:00:00 to 2022-07-18 23:50:00\n",
            "Data columns (total 17 columns):\n",
            " #   Column       Non-Null Count   Dtype  \n",
            "---  ------       --------------   -----  \n",
            " 0   swl          275593 non-null  float64\n",
            " 1   inf          275593 non-null  float64\n",
            " 2   sfw          275593 non-null  float64\n",
            " 3   ecpc         275593 non-null  float64\n",
            " 4   tototf       275593 non-null  float64\n",
            " 5   tide_level   271409 non-null  float64\n",
            " 6   wl_1018662   276277 non-null  float64\n",
            " 7   fw_1018662   259956 non-null  float64\n",
            " 8   wl_1018680   276277 non-null  float64\n",
            " 9   fw_1018680   79487 non-null   float64\n",
            " 10  wl_1018683   276277 non-null  float64\n",
            " 11  fw_1018683   275057 non-null  float64\n",
            " 12  wl_1019630   276277 non-null  float64\n",
            " 13  fw_1019630   276277 non-null  float64\n",
            " 14  rf_10184100  276336 non-null  float64\n",
            " 15  rf_10184110  276336 non-null  float64\n",
            " 16  rf_10184140  276336 non-null  float64\n",
            "dtypes: float64(17)\n",
            "memory usage: 37.9 MB\n"
          ]
        }
      ]
    },
    {
      "cell_type": "code",
      "source": [
        "df.isnull().sum()"
      ],
      "metadata": {
        "colab": {
          "base_uri": "https://localhost:8080/"
        },
        "id": "fDz4acG8xB0Y",
        "outputId": "305a7224-61e9-42bf-911a-8c3ddc911e72"
      },
      "execution_count": 7,
      "outputs": [
        {
          "output_type": "execute_result",
          "data": {
            "text/plain": [
              "swl               743\n",
              "inf               743\n",
              "sfw               743\n",
              "ecpc              743\n",
              "tototf            743\n",
              "tide_level       4927\n",
              "wl_1018662         59\n",
              "fw_1018662      16380\n",
              "wl_1018680         59\n",
              "fw_1018680     196849\n",
              "wl_1018683         59\n",
              "fw_1018683       1279\n",
              "wl_1019630         59\n",
              "fw_1019630         59\n",
              "rf_10184100         0\n",
              "rf_10184110         0\n",
              "rf_10184140         0\n",
              "dtype: int64"
            ]
          },
          "metadata": {},
          "execution_count": 7
        }
      ]
    },
    {
      "cell_type": "code",
      "source": [
        "df.interpolate(method='linear', inplace=True)"
      ],
      "metadata": {
        "id": "7GcHWW1bT9tY"
      },
      "execution_count": 8,
      "outputs": []
    },
    {
      "cell_type": "code",
      "source": [
        "df.isnull().sum()"
      ],
      "metadata": {
        "colab": {
          "base_uri": "https://localhost:8080/"
        },
        "id": "IUd47_IjfUmE",
        "outputId": "3bb348ec-4bce-4fc7-f7cb-49867e3a14c8"
      },
      "execution_count": 9,
      "outputs": [
        {
          "output_type": "execute_result",
          "data": {
            "text/plain": [
              "swl            0\n",
              "inf            0\n",
              "sfw            0\n",
              "ecpc           0\n",
              "tototf         0\n",
              "tide_level     0\n",
              "wl_1018662     0\n",
              "fw_1018662     0\n",
              "wl_1018680     0\n",
              "fw_1018680     0\n",
              "wl_1018683     0\n",
              "fw_1018683     0\n",
              "wl_1019630     0\n",
              "fw_1019630     0\n",
              "rf_10184100    0\n",
              "rf_10184110    0\n",
              "rf_10184140    0\n",
              "dtype: int64"
            ]
          },
          "metadata": {},
          "execution_count": 9
        }
      ]
    },
    {
      "cell_type": "markdown",
      "source": [
        "## 이상치 처리"
      ],
      "metadata": {
        "id": "RCkEvAGHB8qU"
      }
    },
    {
      "cell_type": "markdown",
      "source": [
        "### swl(현재수위), sfw(현재저수량), ecpc(공용량)\n",
        "저수량(sfw) + 공용량(ecpc) = 총저수용량 = 244.0 이므로 \n",
        "- 현재수위(swl)과 저수량(sfw)만 보간법으로 이상치 변환해주고 \n",
        "- 공용량(ecpc)는 '244.0-sfw' 값으로 변환하기"
      ],
      "metadata": {
        "id": "XbthluFMsODC"
      }
    },
    {
      "cell_type": "code",
      "source": [
        "# swl, sfw 이상치 -> 결측치로 바꿔주기\n",
        "dt_range=df['swl'][df['swl']==0].index\n",
        "\n",
        "for i in range(len(dt_range)):\n",
        "  df.loc[dt_range[i]]['swl']=np.nan\n",
        "\n",
        "for i in range(len(dt_range)):\n",
        "  df.loc[dt_range[i]]['sfw']=np.nan"
      ],
      "metadata": {
        "id": "EB54Lm552vSL"
      },
      "execution_count": 10,
      "outputs": []
    },
    {
      "cell_type": "code",
      "source": [
        "# swl, sfw 결측치 -> 보간법으로 채우기\n",
        "df['swl'].interpolate(method='linear', inplace=True)\n",
        "df['sfw'].interpolate(method='linear', inplace=True)"
      ],
      "metadata": {
        "id": "ydGxPjfI9X8b"
      },
      "execution_count": 11,
      "outputs": []
    },
    {
      "cell_type": "code",
      "source": [
        "df[['swl','sfw']].isnull().sum()"
      ],
      "metadata": {
        "colab": {
          "base_uri": "https://localhost:8080/"
        },
        "id": "NnjbRjXv-BRU",
        "outputId": "37af70cf-272f-404a-a69b-1c1fac51afa2"
      },
      "execution_count": 12,
      "outputs": [
        {
          "output_type": "execute_result",
          "data": {
            "text/plain": [
              "swl    0\n",
              "sfw    0\n",
              "dtype: int64"
            ]
          },
          "metadata": {},
          "execution_count": 12
        }
      ]
    },
    {
      "cell_type": "markdown",
      "source": [
        "ecpc 이상치: ecpc = 244-sfw로 바꾸기"
      ],
      "metadata": {
        "id": "QGEjFWOt_1IB"
      }
    },
    {
      "cell_type": "code",
      "source": [
        "for i in range(len(dt_range)):\n",
        "  df.loc[dt_range[i]]['ecpc']=244.0-df.loc[dt_range[i]]['sfw']"
      ],
      "metadata": {
        "id": "1eAkaxCP5bi_"
      },
      "execution_count": 13,
      "outputs": []
    },
    {
      "cell_type": "code",
      "source": [
        "df[['ecpc']].isnull().sum()"
      ],
      "metadata": {
        "colab": {
          "base_uri": "https://localhost:8080/"
        },
        "id": "kbX_UN6vCR7K",
        "outputId": "8d9e8845-ec84-453b-f1f3-71f93b481941"
      },
      "execution_count": 15,
      "outputs": [
        {
          "output_type": "execute_result",
          "data": {
            "text/plain": [
              "ecpc    0\n",
              "dtype: int64"
            ]
          },
          "metadata": {},
          "execution_count": 15
        }
      ]
    },
    {
      "cell_type": "code",
      "source": [
        "df['ecpc'][df['ecpc']>240] # 이상치 없음"
      ],
      "metadata": {
        "colab": {
          "base_uri": "https://localhost:8080/"
        },
        "id": "Sfq62Aq0_osU",
        "outputId": "6bc3ab5c-4e2c-4659-b55c-f1dd9dfd8700"
      },
      "execution_count": 14,
      "outputs": [
        {
          "output_type": "execute_result",
          "data": {
            "text/plain": [
              "Series([], Name: ecpc, dtype: float64)"
            ]
          },
          "metadata": {},
          "execution_count": 14
        }
      ]
    },
    {
      "cell_type": "markdown",
      "source": [
        "### 총방류량(tototf), 유입량(inf) \n",
        "- 2013-09-16, 2018-06-08, 2018-07-05 : 두 변수 보간법 등으로 변경해주기\n",
        "- 2020-08-22 18:50:00 : 방류량0으로 변경해주기\n",
        "- 2020-08-22 19:00:00 : 유입량 bfill로 변경해주기"
      ],
      "metadata": {
        "id": "YMnukpPDnops"
      }
    },
    {
      "cell_type": "code",
      "source": [
        "# 이상치 -> 결측치로 바꿔주기\n",
        "dt_range=['2013-09-16 04:40:00', '2018-06-08 16:00:00', '2018-07-05 16:40:00']\n",
        "for i in range(len(dt_range)):\n",
        "  df.loc[dt_range[i]]['tototf']=np.nan\n",
        "  df.loc[dt_range[i]]['inf']=np.nan"
      ],
      "metadata": {
        "id": "aQiS_AjWtI7C"
      },
      "execution_count": 16,
      "outputs": []
    },
    {
      "cell_type": "code",
      "source": [
        "df['tototf'].interpolate(method='linear', inplace=True)\n",
        "df['inf'].interpolate(method='linear', inplace=True)"
      ],
      "metadata": {
        "id": "bxSaqjFm8pLK"
      },
      "execution_count": 17,
      "outputs": []
    },
    {
      "cell_type": "code",
      "source": [
        "df.loc['2020-08-22 18:50:00']['tototf']=0.0"
      ],
      "metadata": {
        "id": "VKjecQ8N839o"
      },
      "execution_count": 18,
      "outputs": []
    },
    {
      "cell_type": "code",
      "source": [
        "df.loc['2020-08-22 19:00:00']['inf']=np.nan\n",
        "df.fillna(method='bfill', inplace=True)\n",
        "df.isnull().sum()"
      ],
      "metadata": {
        "colab": {
          "base_uri": "https://localhost:8080/"
        },
        "id": "vPmjiyvhqjYC",
        "outputId": "0091e70a-804f-441c-ffe9-3c6b8c87800d"
      },
      "execution_count": 19,
      "outputs": [
        {
          "output_type": "execute_result",
          "data": {
            "text/plain": [
              "swl            0\n",
              "inf            0\n",
              "sfw            0\n",
              "ecpc           0\n",
              "tototf         0\n",
              "tide_level     0\n",
              "wl_1018662     0\n",
              "fw_1018662     0\n",
              "wl_1018680     0\n",
              "fw_1018680     0\n",
              "wl_1018683     0\n",
              "fw_1018683     0\n",
              "wl_1019630     0\n",
              "fw_1019630     0\n",
              "rf_10184100    0\n",
              "rf_10184110    0\n",
              "rf_10184140    0\n",
              "dtype: int64"
            ]
          },
          "metadata": {},
          "execution_count": 19
        }
      ]
    },
    {
      "cell_type": "markdown",
      "source": [
        "## 데이터 csv로 저장"
      ],
      "metadata": {
        "id": "qn3qYQ23C907"
      }
    },
    {
      "cell_type": "code",
      "source": [
        "# df.to_csv('/content/drive/Shareddrives/팔당댐/combined_data/filled_data(2012-2022).csv')"
      ],
      "metadata": {
        "id": "NcviWaGWCun0"
      },
      "execution_count": 20,
      "outputs": []
    },
    {
      "cell_type": "code",
      "source": [
        ""
      ],
      "metadata": {
        "id": "LUi0yRpDDNyQ"
      },
      "execution_count": null,
      "outputs": []
    }
  ]
}